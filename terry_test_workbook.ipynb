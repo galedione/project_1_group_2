{
 "cells": [
  {
   "cell_type": "code",
   "execution_count": null,
   "metadata": {},
   "outputs": [],
   "source": [
    "#Terry starter workbook file"
   ]
  },
  {
   "cell_type": "code",
   "execution_count": 25,
   "metadata": {},
   "outputs": [],
   "source": [
    "#load dependencies\n",
    "import pandas as pd\n",
    "from pathlib import Path\n",
    "import matplotlib.pyplot as plt\n",
    "import numpy as np\n",
    "from prophet import Prophet"
   ]
  },
  {
   "cell_type": "code",
   "execution_count": 35,
   "metadata": {},
   "outputs": [],
   "source": [
    "#first block of effective code\n",
    "#setup and import data files for use\n",
    "cisq = Path('data/CSIQ.csv')\n",
    "dq = Path('data/DQ.csv')\n",
    "# enph = Path('data/ENPH.csv')\n",
    "# fslr = Path('data/FSLR.csv')\n",
    "# jks = Path('data/JKS.csv')\n",
    "# sedg = Path('data/SEDG.csv')\n",
    "# spwr = Path('data/SPWR.csv')\n",
    "#read in data for use\n",
    "cisq_read = pd.read_csv(cisq)\n",
    "dq_read = pd.read_csv(dq)\n",
    "#format for concat later\n",
    "cisq_read.rename(columns= {'Close': 'CISQ'}, inplace= True)\n",
    "dq_read.rename(columns= {'Close': 'DQ'}, inplace= True)\n",
    "\n",
    "\n",
    "# combine_df = dq_data.merge(cisq_data, on=['Date'], how= 'outer')\n",
    "# combine_df.head()\n",
    "\n"
   ]
  },
  {
   "cell_type": "code",
   "execution_count": null,
   "metadata": {},
   "outputs": [],
   "source": []
  }
 ],
 "metadata": {
  "kernelspec": {
   "display_name": "dev",
   "language": "python",
   "name": "python3"
  },
  "language_info": {
   "codemirror_mode": {
    "name": "ipython",
    "version": 3
   },
   "file_extension": ".py",
   "mimetype": "text/x-python",
   "name": "python",
   "nbconvert_exporter": "python",
   "pygments_lexer": "ipython3",
   "version": "3.10.13"
  }
 },
 "nbformat": 4,
 "nbformat_minor": 2
}
