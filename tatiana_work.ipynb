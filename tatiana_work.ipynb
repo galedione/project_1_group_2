{
 "cells": [
  {
   "cell_type": "code",
   "execution_count": 1,
   "metadata": {},
   "outputs": [],
   "source": [
    "# Import the required libraries and dependencies\n",
    "import prophet\n",
    "import pandas as pd\n",
    "import datetime as dt\n",
    "from prophet import Prophet\n",
    "\n",
    "%matplotlib inline"
   ]
  },
  {
   "cell_type": "code",
   "execution_count": null,
   "metadata": {},
   "outputs": [],
   "source": [
    "# Read csv file as DataFrame, with the first column as row index\n",
    "# df = pd.read_csv(\"sp500.csv\",\n",
    "#                  index_col=\"time\",\n",
    "#                  parse_dates=True\n",
    "#                 )\n",
    "\n",
    "# Remove the timezone from the index for Prophet compatibility\n",
    "# df.index = df.index.tz_localize(None)\n",
    "\n",
    "# Preview the dataset\n",
    "# df.head()"
   ]
  },
  {
   "cell_type": "markdown",
   "metadata": {},
   "source": [
    "Plotting the general trends"
   ]
  },
  {
   "cell_type": "code",
   "execution_count": null,
   "metadata": {},
   "outputs": [],
   "source": [
    "\n",
    "# Plot the DataFrame\n",
    "# hourly_prices.plot()\n",
    "# Activity 1 and 2"
   ]
  },
  {
   "cell_type": "code",
   "execution_count": null,
   "metadata": {},
   "outputs": [],
   "source": [
    "# # Create a DataFrame for Canada to include the week and canada columns\n",
    "# df_canada = df_alpaca[[\"week\", \"canada\"]]\n",
    "\n",
    "# # Rename the columns to the Prophet model syntax \n",
    "# df_canada = df_canada.rename(columns={\"week\":\"ds\", \"canada\":\"y\"})\n",
    "\n",
    "# # Review the Canada DataFrame\n",
    "# df_canada.head()\n",
    "# Activity 2"
   ]
  },
  {
   "cell_type": "code",
   "execution_count": null,
   "metadata": {},
   "outputs": [],
   "source": [
    "# Confirm that there are no NaN values\n",
    "# prophet_df = prophet_df.dropna()\n",
    "# prophet_df.tail()"
   ]
  },
  {
   "cell_type": "markdown",
   "metadata": {},
   "source": [
    "Prepare the Data"
   ]
  },
  {
   "cell_type": "code",
   "execution_count": null,
   "metadata": {},
   "outputs": [],
   "source": [
    "# # Reset the index of the DataFrame\n",
    "# prophet_df = hourly_prices.reset_index()\n",
    "\n",
    "# # Review the first and last five rows of the DataFrame\n",
    "# display(prophet_df.head())\n",
    "# display(prophet_df.tail())\n",
    "# Activity 3"
   ]
  }
 ],
 "metadata": {
  "kernelspec": {
   "display_name": "base",
   "language": "python",
   "name": "python3"
  },
  "language_info": {
   "codemirror_mode": {
    "name": "ipython",
    "version": 3
   },
   "file_extension": ".py",
   "mimetype": "text/x-python",
   "name": "python",
   "nbconvert_exporter": "python",
   "pygments_lexer": "ipython3",
   "version": "3.11.5"
  }
 },
 "nbformat": 4,
 "nbformat_minor": 2
}
